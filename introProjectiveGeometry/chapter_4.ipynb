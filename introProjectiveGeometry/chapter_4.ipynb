{
 "cells": [
  {
   "cell_type": "code",
   "execution_count": 21,
   "metadata": {},
   "outputs": [],
   "source": [
    "import logging\n",
    "\n",
    "import numpy as np\n",
    "import sympy as sp\n",
    "init_printing(use_unicode=True)\n",
    "\n",
    "logging.basicConfig(level=logging.INFO)"
   ]
  },
  {
   "cell_type": "code",
   "execution_count": 26,
   "metadata": {},
   "outputs": [],
   "source": [
    "def cal_perspective_config(A, B, A1, B1, V):\n",
    "    a = np.linalg.det([V, A, A1])\n",
    "    b = np.linalg.det([V, A, B1])\n",
    "    c = np.linalg.det([V, B, A1])\n",
    "    d = np.linalg.det([V, B, B1])\n",
    "    \n",
    "    return a, b, c, d\n",
    "\n",
    "\n",
    "def cal_perspective_image(config, point):\n",
    "    m = np.array([\n",
    "        [config[1], config[3]],\n",
    "        [-config[0], -config[2]]\n",
    "    ])\n",
    "    return m.dot(point)\n",
    "\n",
    "\n",
    "def cal_line_coordinates(A, B):\n",
    "    return np.array([A[1] * A1[2] - A[2] * A1[1], \n",
    "            A[2] * A1[0] - A[0] * A1[2], \n",
    "            A[0] * A1[1] - A[1] * A1[0]]) \n",
    "\n",
    "\n",
    "def test_perspective_condition(A, B, A1, B1, V):\n",
    "    cond1 = True; cond2 = True\n",
    "    a, b, c, d = cal_perspective_config(A, B, A1, B1, V)\n",
    "    AA1 = cal_line_coordinates(A, A1)\n",
    "    AB1 = cal_line_coordinates(A, B1)\n",
    "    BA1 = cal_line_coordinates(B, A1)\n",
    "    BB1 = cal_line_coordinates(B, B1)\n",
    "    \n",
    "    out1 = a * d - b * c\n",
    "    out2 = a * np.linalg.det([AB1, BA1, BB1]) \\\n",
    "        + b * np.linalg.det([AA1, BA1, BB1]) \\\n",
    "        + c * np.linalg.det([AA1, AB1, BB1]) \\\n",
    "        + d * np.linalg.det([AA1, AB1, BA1])\n",
    "    \n",
    "    if out1 == 0:\n",
    "        logging.info(\"Not pass 5(a) condition\")\n",
    "        cond1 = False\n",
    "        \n",
    "    if out2 != 0:\n",
    "        logging.info(\"Not pass 5(c) condition\")\n",
    "        cond2 = False\n",
    "        \n",
    "    logging.info(\"Perspective configuration: a={}, b={}, c={}, d={}\".format(a, b, c, d))\n",
    "    \n",
    "    return False if not cond1 and not cond2 else True\n",
    "    \n"
   ]
  },
  {
   "cell_type": "code",
   "execution_count": 34,
   "metadata": {},
   "outputs": [],
   "source": [
    "### Exercise 4.4\n",
    "\n",
    "def ex441():\n",
    "    V = np.array([0, 1, 0])\n",
    "    A = np.array([1, -1, 0])\n",
    "    B = np.array([-2, 2, 1])\n",
    "    A1 = np.array([1, 1, 0])\n",
    "    B1 = np.array([1, 3, 1])\n",
    "\n",
    "    x = [1,4]\n",
    "    config = cal_perspective_config(A, B, A1, B1, V)\n",
    "\n",
    "    print(cal_perspective_image(config, x))\n",
    "\n",
    "def ex442():\n",
    "    A = np.array([1, -1, 2])\n",
    "    B = np.array([1, -1, 0])\n",
    "    A1 = np.array([-1, 1, 1])\n",
    "    B1 = np.array([2, 0, -1])\n",
    "\n",
    "    config = cal_perspective_config(A, B, A1, B1, V)\n",
    "    print(cal_perspective_image(config, x))\n",
    "\n",
    "\n"
   ]
  },
  {
   "cell_type": "code",
   "execution_count": 33,
   "metadata": {},
   "outputs": [
    {
     "name": "stdout",
     "output_type": "stream",
     "text": [
      "[11. -4.]\n",
      "[9. 7.]\n"
     ]
    }
   ],
   "source": [
    "ex441()\n",
    "ex442()"
   ]
  },
  {
   "cell_type": "code",
   "execution_count": null,
   "metadata": {},
   "outputs": [],
   "source": []
  }
 ],
 "metadata": {
  "kernelspec": {
   "display_name": "Python 3",
   "language": "python",
   "name": "python3"
  },
  "language_info": {
   "codemirror_mode": {
    "name": "ipython",
    "version": 3
   },
   "file_extension": ".py",
   "mimetype": "text/x-python",
   "name": "python",
   "nbconvert_exporter": "python",
   "pygments_lexer": "ipython3",
   "version": "3.7.7"
  }
 },
 "nbformat": 4,
 "nbformat_minor": 4
}
