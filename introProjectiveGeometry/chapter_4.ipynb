{
 "cells": [
  {
   "cell_type": "code",
   "execution_count": 1,
   "metadata": {},
   "outputs": [],
   "source": [
    "import logging\n",
    "\n",
    "import numpy as np\n",
    "import sympy as sp\n",
    "sp.init_printing(use_unicode=True)\n",
    "\n",
    "logging.basicConfig(level=logging.INFO)"
   ]
  },
  {
   "cell_type": "code",
   "execution_count": 137,
   "metadata": {},
   "outputs": [],
   "source": [
    "class PerspectiveTool:\n",
    "    def __init__(self): pass\n",
    "    \n",
    "    @staticmethod\n",
    "    def find_config(A, B, A1, B1, V):\n",
    "        a = np.linalg.det([V, A, A1])\n",
    "        b = np.linalg.det([V, A, B1])\n",
    "        c = np.linalg.det([V, B, A1])\n",
    "        d = np.linalg.det([V, B, B1])\n",
    "\n",
    "        return a, b, c, d\n",
    "\n",
    "    @staticmethod\n",
    "    def cal_image(config, param):\n",
    "        m = np.array([\n",
    "            [config[1], config[3]],\n",
    "            [-config[0], -config[2]]\n",
    "        ])\n",
    "        return m.dot(param)\n",
    "\n",
    "    @staticmethod\n",
    "    def get_center_matrix(A, B, A1, B1, config):\n",
    "        # Create the augemented matrix representing the system 3(a)-(d) in page 154,\n",
    "        # which is used to find the center once we know the config and the pairs of base point\n",
    "        AA1 = cal_line_coordinates(A, A1)\n",
    "        AB1 = cal_line_coordinates(A, B1)\n",
    "        BA1 = cal_line_coordinates(B, A1)\n",
    "        BB1 = cal_line_coordinates(B, B1)\n",
    "\n",
    "        return np.array([\n",
    "            np.concatenate((AA1, [config[0]])),\n",
    "            np.concatenate((AB1, [config[1]])),\n",
    "            np.concatenate((BA1, [config[2]])),\n",
    "            np.concatenate((BB1, [config[3]]))\n",
    "        ])\n",
    "    \n",
    "    @staticmethod\n",
    "    def get_perspective_matrix(config):\n",
    "        return np.array(\n",
    "        [\n",
    "            [config[1], config[3]],\n",
    "            [-config[0], -config[2]]            \n",
    "        ])\n",
    "    \n",
    "    @staticmethod\n",
    "    def test_conditions(A, B, A1, B1, V, config=None):\n",
    "        cond1 = True; cond2 = True\n",
    "        if not config:\n",
    "            a, b, c, d = PerspectiveTool.find_config(A, B, A1, B1, V)\n",
    "        else:\n",
    "            a,b,c,d = config\n",
    "\n",
    "        AA1 = cal_line_coordinates(A, A1)\n",
    "        AB1 = cal_line_coordinates(A, B1)\n",
    "        BA1 = cal_line_coordinates(B, A1)\n",
    "        BB1 = cal_line_coordinates(B, B1)\n",
    "\n",
    "        out1 = a * d - b * c\n",
    "        out2 = a * np.linalg.det([AB1, BA1, BB1]) \\\n",
    "            + b * np.linalg.det([AA1, BA1, BB1]) \\\n",
    "            + c * np.linalg.det([AA1, AB1, BB1]) \\\n",
    "            + d * np.linalg.det([AA1, AB1, BA1])\n",
    "\n",
    "        if out1 == 0:\n",
    "            logging.info(\"Not pass 5(a) condition\")\n",
    "            cond1 = False\n",
    "\n",
    "        if out2 != 0:\n",
    "            logging.info(\"Not pass 5(c) condition\")\n",
    "            cond2 = False\n",
    "\n",
    "        logging.info(\"Perspective configuration: a={}, b={}, c={}, d={}\".format(a, b, c, d))\n",
    "\n",
    "        return False if not cond1 and not cond2 else True    \n",
    "\n",
    "    @staticmethod\n",
    "    def find_center(A, B, A1, B1, config):\n",
    "        # Not exactly return the center, but return the rref of the center matrix, from\n",
    "        # which center can be obtained.\n",
    "        cm = PerspectiveTool.get_center_matrix(A,B,A1,B1,config)\n",
    "        logging.info(cm)\n",
    "        return sp.Matrix(cm).rref()\n",
    "        \n",
    "    \n",
    "\n",
    "def cal_line_coordinates(A, B):\n",
    "    return np.array([\n",
    "        A[1]*B[2] - A[2]*B[1], \n",
    "        A[2]*B[0] - A[0]*B[2], \n",
    "        A[0]*B[1] - A[1]*B[0]]) \n",
    "    \n",
    "    \n",
    "def is_collinear(A, B, C):\n",
    "    # Check if two point on the same line\n",
    "    d = np.linalg.det(np.array([A,B,C]))\n",
    "    a = 10**(-8) # threshold\n",
    "    if d == 0 or abs(d) < a:\n",
    "        if d != 0:\n",
    "            logging.info(\"determinant of square matrix [{}, {}, {}] = {}\"\n",
    "                         .format(A, B, C, d))\n",
    "        return True\n",
    "    else: \n",
    "        return False\n",
    "    \n",
    "def guess_linear_coefficients(A, B, C):\n",
    "    # Return the row reduced echelon form of the matrix, which\n",
    "    # suggests a pair of coefficients to describe C by the linear\n",
    "    # combination of A and B\n",
    "    C = np.array([C])\n",
    "    m = np.array([A, B]).transpose()\n",
    "    m = np.concatenate((m, C.T), axis=1)\n",
    "\n",
    "    M = sp.Matrix(m)\n",
    "    return M.rref()    \n",
    "\n",
    "def is_parallel(A, B):\n",
    "    # Check two vectors are parallel (or equal in the extended Euclidean plane)\n",
    "    # See Calculus - Steward, section 12.4 for the explanation of the calculation\n",
    "    s = 10**(-10)\n",
    "    a = A.dot(B)\n",
    "    A_length = np.linalg.norm(A)\n",
    "    B_length = np.linalg.norm(B)\n",
    "\n",
    "    if abs(a / (A_length * B_length)) > (1 - s):\n",
    "        return True\n",
    "    else: \n",
    "        return False"
   ]
  },
  {
   "cell_type": "code",
   "execution_count": 138,
   "metadata": {},
   "outputs": [],
   "source": [
    "### Exercise 4.4\n",
    "\n",
    "def ex441(msg=None):\n",
    "    V = np.array([0, 1, 0])\n",
    "    A = np.array([1, -1, 0])\n",
    "    B = np.array([-2, 2, 1])\n",
    "    A1 = np.array([1, 1, 0])\n",
    "    B1 = np.array([1, 3, 1])\n",
    "\n",
    "    config = PerspectiveTool.find_config(A, B, A1, B1, V)\n",
    "    if msg:\n",
    "        print(\"Ex 4.4.1\")\n",
    "        print(\"The configuration: {}\".format(config))\n",
    "    return config\n",
    "    \n",
    "def ex442():\n",
    "    print(\"Ex 4.4.2\")\n",
    "    V = np.array([0, 1, 0])\n",
    "    \n",
    "    A = np.array([1, -1, 2])\n",
    "    B = np.array([1, -1, 0])\n",
    "    A1 = np.array([-1, 1, 1])\n",
    "    B1 = np.array([2, 0, -1])\n",
    "    \n",
    "    p = np.array([-2,2,5]) # on the line l\n",
    "    param2 = [5, -9]\n",
    "    param1 = [8, 5] # relate to the point A and B in ex441\n",
    "    \n",
    "    config1 = ex441()\n",
    "    img_param1 = PerspectiveTool.cal_image(config1, param1)\n",
    "    p1 = np.array([[1, 1, 0], [1, 3, 1]]).transpose().dot(img_param1)\n",
    "    \n",
    "    config2 = PerspectiveTool.find_config(A, B, A1, B1, V)\n",
    "    img_param2 = PerspectiveTool.cal_image(config2, param2)\n",
    "    p2 = np.array([A1, B1]).transpose().dot(img_param2)\n",
    "    \n",
    "    if is_parallel(p1, p2):\n",
    "        print(\"Two configurations return the same points, {}, {}\".format(p1, p2))\n",
    "    else:\n",
    "        print(\"Two configurations do NOT return the same points, {}, {}\".format(p1, p2))\n",
    "    \n",
    "    \n",
    "def ex443():\n",
    "    A = np.array([2,1,1])\n",
    "    B = np.array([0,0,1])\n",
    "    A1 = np.array([0,1,-1])\n",
    "    B1 = np.array([1,0,0])\n",
    "    \n",
    "    config1 = [2,3,-2,3]\n",
    "    m1 = sp.Matrix(PerspectiveTool.get_center_matrix(A, B, A1, B1, config1))\n",
    "\n",
    "    \n",
    "    config2 = [4,3,1,2]\n",
    "    m2 = sp.Matrix(PerspectiveTool.get_center_matrix(A, B, A1, B1, config2))\n",
    "    \n",
    "    print(\"Ex 4.4.3\")\n",
    "    print(\"Solution of a)\")\n",
    "    print(m1.rref())    \n",
    "    print(\"Solution of b)\")\n",
    "    print(m2.rref())\n",
    "\n",
    "def ex444():\n",
    "    A = np.array([1,1,-2])\n",
    "    B = np.array([1,2,-3])\n",
    "    A1 = np.array([1,1,0])\n",
    "    B1 = np.array([0,1,1])    \n",
    "\n",
    "#     A = np.array([2,1,1])\n",
    "#     B = np.array([0,0,1])\n",
    "#     A1 = np.array([0,1,-1])\n",
    "#     B1 = np.array([1,0,0])\n",
    "    \n",
    "    AA1 = cal_line_coordinates(A, A1)\n",
    "    AB1 = cal_line_coordinates(A, B1)\n",
    "    BA1 = cal_line_coordinates(B, A1)\n",
    "    BB1 = cal_line_coordinates(B, B1)\n",
    "    \n",
    "    p1 = np.linalg.det([AB1, BA1, BB1])\n",
    "    p2 = -np.linalg.det([AA1, BA1, BB1])\n",
    "    p3 = np.linalg.det([AA1, AB1, BB1])\n",
    "    p4 = -np.linalg.det([AA1, AB1, BA1])\n",
    "    \n",
    "    print(AA1, AB1, BA1, BB1)\n",
    "    print(p1, p2, p3, p4)\n",
    "\n",
    "    \n",
    "def ex445():\n",
    "    A = np.array([1,2,1])\n",
    "    B = np.array([1,1,0])\n",
    "    A1 = np.array([-2,1,3])\n",
    "    B1 = np.array([-2,1,0])    \n",
    "    \n",
    "    AA1 = cal_line_coordinates(A, A1)\n",
    "    AB1 = cal_line_coordinates(A, B1)\n",
    "    BA1 = cal_line_coordinates(B, A1)\n",
    "    BB1 = cal_line_coordinates(B, B1)\n",
    "    \n",
    "    p1 = np.linalg.det([AB1, BA1, BB1])\n",
    "    p2 = -np.linalg.det([AA1, BA1, BB1])\n",
    "    p3 = np.linalg.det([AA1, AB1, BB1])\n",
    "    p4 = -np.linalg.det([AA1, AB1, BA1])\n",
    "    \n",
    "    print(AA1, AB1, BA1, BB1)\n",
    "    print(\"{},{},{},{}\".format(p1, p2, p3, p4))    \n",
    "    \n",
    "    \n",
    "def ex448():\n",
    "    A1 = np.array([0,1,2])\n",
    "    B1 = np.array([0,2,2])\n",
    "    A2 = np.array([-1,0,-1])\n",
    "    B2 = np.array([1,0,2])\n",
    "    A3 = np.array([-1,1,0])\n",
    "    B3 = np.array([2,1,0])\n",
    "    \n",
    "    V1 = np.array([1,-1,1])\n",
    "    V2 = np.array([-1,1,1])\n",
    "    V3 = np.array([1,1,1])\n",
    "    \n",
    "    config1 = PerspectiveTool.find_config(A1,B1,A2,B2,V1)\n",
    "    config2 = PerspectiveTool.find_config(A2,B2,A3,B3,V2)  \n",
    "    config3 = PerspectiveTool.find_config(A3,B3,A1,B1,V3)\n",
    "    \n",
    "    pm1 = PerspectiveTool.get_perspective_matrix(config1)\n",
    "    pm2 = PerspectiveTool.get_perspective_matrix(config2)\n",
    "    pm3 = PerspectiveTool.get_perspective_matrix(config3)\n",
    "    \n",
    "    param = [2,3]\n",
    "    P = A1*param[0] + B1*param[1]\n",
    "    img_param = (pm3.dot(pm2.dot(pm1))).dot(param)\n",
    "    img_P = A1*img_param[0] + B1*img_param[1]\n",
    "    \n",
    "    \n",
    "    return pm1, pm2, pm3, pm3.dot(pm2.dot(pm1)), is_parallel(P, img_P), P, img_P\n",
    "    \n",
    "\n",
    "def ex449():\n",
    "    A1 = np.array([0,1,2])\n",
    "    B1 = np.array([0,2,2])\n",
    "    A2 = np.array([-1,0,-1])\n",
    "    B2 = np.array([1,0,2])\n",
    "    A3 = np.array([-1,1,0])\n",
    "    B3 = np.array([2,1,0])\n",
    "    \n",
    "    V1 = np.array([1,4,1])\n",
    "    V2 = np.array([1,4,2])\n",
    "    V3 = np.array([1,2,1])\n",
    "    \n",
    "    config1 = PerspectiveTool.find_config(A1,B1,A2,B2,V1)\n",
    "    config2 = PerspectiveTool.find_config(A2,B2,A3,B3,V2)\n",
    "    config3 = PerspectiveTool.find_config(A3,B3,A1,B1,V3)\n",
    "    \n",
    "    pm1 = PerspectiveTool.get_perspective_matrix(config1)\n",
    "    pm2 = PerspectiveTool.get_perspective_matrix(config2)\n",
    "    pm3 = PerspectiveTool.get_perspective_matrix(config3)\n",
    "    \n",
    "    param = [2,3]\n",
    "    P = A1*param[0] + B1*param[1]\n",
    "    img_param = (pm3.dot(pm2.dot(pm1))).dot(param)\n",
    "    img_P = A1*img_param[0] + B1*img_param[1]\n",
    "    \n",
    "    \n",
    "    return pm1, pm2, pm3, pm3.dot(pm2.dot(pm1)), is_parallel(P, img_P), P, img_P\n",
    "\n",
    "def ex4410():\n",
    "    A1 = np.array([1,3,3])\n",
    "    B1 = np.array([0,-1,-1])\n",
    "    A2 = np.array([-1,5,-1])\n",
    "    B2 = np.array([2,-1,2])\n",
    "    A3 = np.array([-1,1,2])\n",
    "    B3 = np.array([2,-2,1])\n",
    "    \n",
    "    U = np.array([2,0,3])\n",
    "    V = np.array([2,4,1])    \n",
    "    \n",
    "    config1 = PerspectiveTool.find_config(A1,B1,A2,B2,U)\n",
    "    config2 = PerspectiveTool.find_config(A2,B2,A3,B3,V)\n",
    "    pm1 = PerspectiveTool.get_perspective_matrix(config1)\n",
    "    pm2 = PerspectiveTool.get_perspective_matrix(config2)\n",
    "    pm = pm2.dot(pm1)\n",
    "    \n",
    "    return pm"
   ]
  },
  {
   "cell_type": "code",
   "execution_count": 139,
   "metadata": {},
   "outputs": [
    {
     "name": "stdout",
     "output_type": "stream",
     "text": [
      "Ex 4.4.3\n",
      "Solution of a)\n",
      "(Matrix([\n",
      "[1, 0, 0, 2],\n",
      "[0, 1, 0, 3],\n",
      "[0, 0, 1, 0],\n",
      "[0, 0, 0, 0]]), (0, 1, 2))\n",
      "Solution of b)\n",
      "(Matrix([\n",
      "[1, 0, 0, -1],\n",
      "[0, 1, 0,  2],\n",
      "[0, 0, 1, -1],\n",
      "[0, 0, 0,  0]]), (0, 1, 2))\n"
     ]
    }
   ],
   "source": [
    "# ex441(True)\n",
    "# ex442()\n",
    "ex443()\n",
    "# ex444()\n",
    "# ex445()\n",
    "# ex448()\n",
    "# ex449()\n",
    "# ex4410()"
   ]
  },
  {
   "cell_type": "code",
   "execution_count": 160,
   "metadata": {},
   "outputs": [],
   "source": [
    "## Exercises 4.5\n",
    "\n",
    "def ex451():\n",
    "    A1 = np.array([0,1,2])\n",
    "    B1 = np.array([0,-1,1])\n",
    "    A2 = np.array([1,0,1])\n",
    "    B2 = np.array([-1,0,2])\n",
    "    A3 = np.array([1,1,0])\n",
    "    B3 = np.array([2,1,0])\n",
    "    \n",
    "    U = np.array([1,-1,0])\n",
    "    V = np.array([1,1,1])\n",
    "    \n",
    "    config1 = PerspectiveTool.find_config(A1,A2,B1,B2,U)\n",
    "    config2 = PerspectiveTool.find_config(A2,B2,A3,B3,V)\n",
    "    pm1 = PerspectiveTool.get_perspective_matrix(config1)\n",
    "    pm2 = PerspectiveTool.get_perspective_matrix(config2)\n",
    "    pro_m = pm2.dot(pm1)\n",
    "    config = [-pro_m[1][0], pro_m[0][0], -pro_m[1][1], pro_m[0][1]] \n",
    "    cm = PerspectiveTool.get_center_matrix(A1,B1,A3,B3,config)\n",
    "    if np.linalg.det(cm) == 0:\n",
    "        return True\n",
    "    else:\n",
    "        return False\n",
    "    \n",
    "def ex453():\n",
    "    A1 = np.array([0,1,0])\n",
    "    B1 = np.array([0,0,1])\n",
    "    A2 = np.array([0,0,1])\n",
    "    B2 = np.array([1,-1,0])\n",
    "    A3 = np.array([1,0,0]) # original point\n",
    "#     A3 = np.array([1,-1,-1]) # The intersection between l' and l2\n",
    "    B3 = np.array([0,1,1])\n",
    "    \n",
    "    cm1 = PerspectiveTool.get_center_matrix(A1,B1,A3,B3,[1,1,1,1])\n",
    "    cm2 = PerspectiveTool.get_center_matrix(A3,B3,A2,B2,[1,1,1,1])\n",
    "    \n",
    "    # After manually compute, I got the configurations of the two perspectives \n",
    "    # between l1 and l', and between l' and l2\n",
    "#     config1 = [-2/3, 1/6, 5/3, -1/6]\n",
    "#     config2 = [18, 2, -3, -2]\n",
    "    config1 = [-3,-0.2,1,0.2]\n",
    "    config2 = [-17.5,-15,3/2,1]\n",
    "    c1 = PerspectiveTool.find_center(A1,B1,A3,B3,config1)\n",
    "    c2 = PerspectiveTool.find_center(A3,B3,A2,B2,config2)\n",
    "    pm1 = PerspectiveTool.get_perspective_matrix(config1)\n",
    "    pm2 = PerspectiveTool.get_perspective_matrix(config2)\n",
    "    pm = pm2.dot(pm1)\n",
    "    \n",
    "    # Given the center solution, find the confugurations, and compare with those I found.\n",
    "#     U = np.array([1,0,1])\n",
    "#     V = np.array([3,2,3])\n",
    "#     config11 = PerspectiveTool.find_config(A1,B1,A3,B3,U)\n",
    "#     config21 = PerspectiveTool.find_config(A3,B3,A2,B2,V)\n",
    "#     pm11 = PerspectiveTool.get_perspective_matrix(config11)\n",
    "#     pm21 = PerspectiveTool.get_perspective_matrix(config21)\n",
    "#     pm_test = pm21.dot(pm11)\n",
    "    \n",
    "    return cm2,cm1,c1,c2,pm\n",
    "\n",
    "def ex454():\n",
    "    A1 = np.array([0,1,0])\n",
    "    B1 = np.array([0,0,1])\n",
    "    A2 = np.array([0,0,1])\n",
    "    B2 = np.array([1,-1,0])\n",
    "    A3 = np.array([1,-1,-1]) # The intersection between l' and l2\n",
    "    B3 = np.array([0,1,1])\n",
    "    \n",
    "    cm1 = PerspectiveTool.get_center_matrix(A1,B1,A3,B3,[1,1,1,1])\n",
    "    cm2 = PerspectiveTool.get_center_matrix(A3,B3,A2,B2,[1,1,1,1])\n",
    "    \n",
    "    # After manually compute, I got the configurations of the two perspectives \n",
    "    # between l1 and l', and between l' and l2\n",
    "    config1 = [0,-3/5,-1,3/5]\n",
    "    config2 = [-10/3,-5,3,5]\n",
    "    c1 = PerspectiveTool.find_center(A1,B1,A3,B3,config1)\n",
    "    c2 = PerspectiveTool.find_center(A3,B3,A2,B2,config2)\n",
    "    pm1 = PerspectiveTool.get_perspective_matrix(config1)\n",
    "    pm2 = PerspectiveTool.get_perspective_matrix(config2)\n",
    "    pm = pm2.dot(pm1)\n",
    "    return cm2,cm1,c1,c2,pm"
   ]
  },
  {
   "cell_type": "code",
   "execution_count": 161,
   "metadata": {},
   "outputs": [
    {
     "name": "stderr",
     "output_type": "stream",
     "text": [
      "INFO:root:[[ 0.   0.  -1.  -3. ]\n",
      " [ 1.   0.   0.  -0.2]\n",
      " [ 0.   1.   0.   1. ]\n",
      " [-1.   0.   0.   0.2]]\n",
      "INFO:root:[[  0.   -1.    0.  -17.5]\n",
      " [  0.    0.   -1.  -15. ]\n",
      " [  1.    0.    0.    1.5]\n",
      " [  1.    1.   -1.    1. ]]\n"
     ]
    },
    {
     "data": {
      "text/plain": [
       "(array([[ 0, -1,  0,  1],\n",
       "        [ 0,  0, -1,  1],\n",
       "        [ 1,  0,  0,  1],\n",
       "        [ 1,  1, -1,  1]]),\n",
       " array([[ 0,  0, -1,  1],\n",
       "        [ 1,  0,  0,  1],\n",
       "        [ 0,  1,  0,  1],\n",
       "        [-1,  0,  0,  1]]),\n",
       " (Matrix([\n",
       "  [  1,   0, 0, -0.2],\n",
       "  [0.0,   1, 0,  1.0],\n",
       "  [0.0, 0.0, 1,  3.0],\n",
       "  [  0,   0, 0,    0]]),\n",
       "  (0, 1, 2)),\n",
       " (Matrix([\n",
       "  [1, 0, 0, 0],\n",
       "  [0, 1, 0, 0],\n",
       "  [0, 0, 1, 0],\n",
       "  [0, 0, 0, 1]]),\n",
       "  (0, 1, 2, 3)),\n",
       " array([[ 6., -4.],\n",
       "        [-8.,  5.]]))"
      ]
     },
     "execution_count": 161,
     "metadata": {},
     "output_type": "execute_result"
    }
   ],
   "source": [
    "# ex451()\n",
    "ex453()\n",
    "# ex454()"
   ]
  },
  {
   "cell_type": "code",
   "execution_count": 95,
   "metadata": {},
   "outputs": [
    {
     "data": {
      "text/plain": [
       "array([-7., -5.])"
      ]
     },
     "execution_count": 95,
     "metadata": {},
     "output_type": "execute_result"
    }
   ],
   "source": [
    "a[1]"
   ]
  },
  {
   "cell_type": "code",
   "execution_count": 150,
   "metadata": {},
   "outputs": [
    {
     "data": {
      "text/plain": [
       "array([[ 0,  0, -1,  1],\n",
       "       [ 1,  0,  0,  1],\n",
       "       [ 0,  1,  0,  1],\n",
       "       [-1,  0,  0,  1]])"
      ]
     },
     "execution_count": 150,
     "metadata": {},
     "output_type": "execute_result"
    }
   ],
   "source": [
    "A1 = np.array([0,1,0])\n",
    "B1 = np.array([0,0,1])\n",
    "A2 = np.array([0,0,1])\n",
    "B2 = np.array([1,-1,0])\n",
    "A3 = np.array([1,0,0]) # original point\n",
    "B3 = np.array([0,1,1])\n",
    "\n",
    "PerspectiveTool.get_center_matrix(A3,B3,A2,B2,[1,1,1,1])\n",
    "PerspectiveTool.get_center_matrix(A1,B1,A3,B3,[1,1,1,1])"
   ]
  },
  {
   "cell_type": "code",
   "execution_count": 131,
   "metadata": {},
   "outputs": [
    {
     "data": {
      "text/plain": [
       "array([[-1.,  3.],\n",
       "       [-1., -2.]])"
      ]
     },
     "execution_count": 131,
     "metadata": {},
     "output_type": "execute_result"
    }
   ],
   "source": [
    "A = PerspectiveTool.get_perspective_matrix()\n",
    "B = np.array([\n",
    "    [1/6, -1/6],\n",
    "    [2/3, -5/3]\n",
    "])\n",
    "A.dot(B)"
   ]
  },
  {
   "cell_type": "code",
   "execution_count": 132,
   "metadata": {},
   "outputs": [
    {
     "data": {
      "text/latex": [
       "$\\displaystyle \\left( \\left[\\begin{matrix}1 & 0\\\\0 & 1\\end{matrix}\\right], \\  \\left( 0, \\  1\\right)\\right)$"
      ],
      "text/plain": [
       "⎛⎡1  0⎤        ⎞\n",
       "⎜⎢    ⎥, (0, 1)⎟\n",
       "⎝⎣0  1⎦        ⎠"
      ]
     },
     "execution_count": 132,
     "metadata": {},
     "output_type": "execute_result"
    }
   ],
   "source": [
    "sp.Matrix(B).rref()"
   ]
  },
  {
   "cell_type": "code",
   "execution_count": 133,
   "metadata": {},
   "outputs": [
    {
     "data": {
      "text/latex": [
       "$\\displaystyle \\left( \\left[\\begin{matrix}1 & 0\\\\0 & 1\\end{matrix}\\right], \\  \\left( 0, \\  1\\right)\\right)$"
      ],
      "text/plain": [
       "⎛⎡1  0⎤        ⎞\n",
       "⎜⎢    ⎥, (0, 1)⎟\n",
       "⎝⎣0  1⎦        ⎠"
      ]
     },
     "execution_count": 133,
     "metadata": {},
     "output_type": "execute_result"
    }
   ],
   "source": [
    "sp.Matrix(A).rref()"
   ]
  },
  {
   "cell_type": "code",
   "execution_count": 136,
   "metadata": {},
   "outputs": [
    {
     "data": {
      "text/plain": [
       "array([ -2, -12])"
      ]
     },
     "execution_count": 136,
     "metadata": {},
     "output_type": "execute_result"
    }
   ],
   "source": [
    "A.dot([1,2])"
   ]
  },
  {
   "cell_type": "code",
   "execution_count": 156,
   "metadata": {},
   "outputs": [
    {
     "data": {
      "text/latex": [
       "$\\displaystyle \\left( \\left[\\begin{matrix}1 & 0 & 0 & 1.5 & -2.0\\\\0 & 1 & 0 & -0.2 & -0.4\\\\0 & 0 & 1 & 1.0 & -2.0\\\\0 & 0 & 0 & 0 & 0\\end{matrix}\\right], \\  \\left( 0, \\  1, \\  2\\right)\\right)$"
      ],
      "text/plain": [
       "⎛⎡1  0  0  1.5   -2.0⎤           ⎞\n",
       "⎜⎢                   ⎥           ⎟\n",
       "⎜⎢0  1  0  -0.2  -0.4⎥           ⎟\n",
       "⎜⎢                   ⎥, (0, 1, 2)⎟\n",
       "⎜⎢0  0  1  1.0   -2.0⎥           ⎟\n",
       "⎜⎢                   ⎥           ⎟\n",
       "⎝⎣0  0  0   0     0  ⎦           ⎠"
      ]
     },
     "execution_count": 156,
     "metadata": {},
     "output_type": "execute_result"
    }
   ],
   "source": [
    "sp.Matrix([\n",
    "    [1,5/2,-1,0,-1],\n",
    "    [-1,-5/2,0,-1,3],\n",
    "    [-1,0,3/2,0,-1],\n",
    "    [1,0,0,3/2,-2]\n",
    "]).rref()"
   ]
  },
  {
   "cell_type": "code",
   "execution_count": 157,
   "metadata": {},
   "outputs": [
    {
     "data": {
      "image/png": "[encoded data removed]",
      "text/latex": [
       "$\\displaystyle -17.5$"
      ],
      "text/plain": [
       "-17.5"
      ]
     },
     "execution_count": 157,
     "metadata": {},
     "output_type": "execute_result"
    }
   ],
   "source": [
    " -3.5*5"
   ]
  },
  {
   "cell_type": "code",
   "execution_count": 159,
   "metadata": {},
   "outputs": [
    {
     "data": {
      "image/png": "[encoded data removed]",
      "text/latex": [
       "$\\displaystyle -22.5$"
      ],
      "text/plain": [
       "-22.5"
      ]
     },
     "execution_count": 159,
     "metadata": {},
     "output_type": "execute_result"
    }
   ],
   "source": [
    "-15*3/2"
   ]
  },
  {
   "cell_type": "code",
   "execution_count": null,
   "metadata": {},
   "outputs": [],
   "source": []
  }
 ],
 "metadata": {
  "kernelspec": {
   "display_name": "Python 3",
   "language": "python",
   "name": "python3"
  },
  "language_info": {
   "codemirror_mode": {
    "name": "ipython",
    "version": 3
   },
   "file_extension": ".py",
   "mimetype": "text/x-python",
   "name": "python",
   "nbconvert_exporter": "python",
   "pygments_lexer": "ipython3",
   "version": "3.8.3"
  }
 },
 "nbformat": 4,
 "nbformat_minor": 4
}
